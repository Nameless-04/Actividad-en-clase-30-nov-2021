{
  "nbformat": 4,
  "nbformat_minor": 0,
  "metadata": {
    "colab": {
      "name": "Arboles_1310.ipynb",
      "provenance": []
    },
    "kernelspec": {
      "name": "python3",
      "display_name": "Python 3"
    },
    "language_info": {
      "name": "python"
    }
  },
  "cells": [
    {
      "cell_type": "code",
      "metadata": {
        "id": "VY0raL8821QW"
      },
      "source": [
        "class NodoBinario:\n",
        "    def __init__(self, value, left = None, rigth = None):\n",
        "        self.data = value\n",
        "        self.left = left\n",
        "        self.rigth = rigth\n",
        "\n",
        "class NodoTernario:\n",
        "    def __init__( self, value, left= None, center = None, rigth = None):\n",
        "        self.data = value\n",
        "        self.left = left\n",
        "        self.center = center\n",
        "        self.rigth = rigth\n"
      ],
      "execution_count": 1,
      "outputs": []
    },
    {
      "cell_type": "code",
      "metadata": {
        "colab": {
          "base_uri": "https://localhost:8080/"
        },
        "id": "inoqlqvDDzYF",
        "outputId": "376d600e-4d5c-4e47-b381-32885378a553"
      },
      "source": [
        "# para el primer albol\n",
        "arbol1 = NodoBinario(\"R\", NodoBinario(\"C\"),NodoBinario(\"H\"))\n",
        "print(arbol1.rigth.data)\n",
        "\n",
        "arbol2 = NodoTernario(4, NodoTernario(3,\\\n",
        "        NodoTernario(5, left =NodoTernario(2)),\\\n",
        "        NodoTernario(5),NodoTernario(2)), None, NodoTernario(5))\n",
        "print(arbol2.left.rigth.data)\n",
        "# para la raiz\n",
        "print(arbol2.data)\n",
        "#para imprimir  el 5\n",
        "print(arbol2.left.center.data)\n",
        "# aqui habra un vacio \n",
        "print(arbol2.rigth.left)\n",
        "print(arbol2.left.left.left.data)\n",
        "print(\"---imprimir el mismo sin usar la palabra left---\")\n",
        "ejemplo= arbol2.left.left.left.data\n",
        "print(ejemplo)\n",
        "print(\"--- otra forma..? ---\")\n",
        "aux= arbol2\n",
        "while( aux.left !=None):\n",
        "    aux = aux.left\n",
        "print(aux.data)\n",
        "\n"
      ],
      "execution_count": 2,
      "outputs": [
        {
          "output_type": "stream",
          "name": "stdout",
          "text": [
            "H\n",
            "2\n",
            "4\n",
            "5\n",
            "None\n",
            "2\n",
            "---imprimir el mismo sin usar la palabra left---\n",
            "2\n",
            "--- otra forma..? ---\n",
            "2\n"
          ]
        }
      ]
    },
    {
      "cell_type": "code",
      "metadata": {
        "colab": {
          "base_uri": "https://localhost:8080/"
        },
        "id": "RsemK0vAIvLc",
        "outputId": "ad96e019-86c5-4449-c370-1b0bef2bb247"
      },
      "source": [
        "root = NodoBinario(\"Santi\",None,NodoBinario(\"Jesus\",NodoBinario(\"Pedro\",None,NodoBinario(\" Pedro jr\"))))\n",
        "print(root.rigth.left.rigth.data)\n"
      ],
      "execution_count": 3,
      "outputs": [
        {
          "output_type": "stream",
          "name": "stdout",
          "text": [
            " Pedro jr\n"
          ]
        }
      ]
    },
    {
      "cell_type": "code",
      "metadata": {
        "id": "0_Zfxk9aJ2Q5"
      },
      "source": [
        "class BinaryNode:\n",
        "    def __init__(self, value, left= None, rigth= None):\n",
        "        self.data= value\n",
        "        self.left = left\n",
        "        self.rigth = rigth\n",
        "\n",
        "class BinarySearchTree:\n",
        "    def __init__( self):\n",
        "        self.root = None\n",
        "\n",
        "    def insert(self, value):\n",
        "        if self.root == None:\n",
        "            self.root = BinaryNode( value)\n",
        "        else:\n",
        "            self.__insert_nodo( self.root , value )\n",
        "\n",
        "    def __insert_nodo( self, nodo, value ):\n",
        "        if nodo.data == value:\n",
        "            pass\n",
        "        elif value < nodo.data:\n",
        "            if nodo.left == None:\n",
        "                nodo.left = BinaryNode( value )\n",
        "            else:\n",
        "                self.__insert_nodo( nodo.left, value )\n",
        "        else: # if a la derecha\n",
        "            if nodo.rigth == None:\n",
        "                    nodo.rigth = BinaryNode( value )\n",
        "            else:\n",
        "                self.__insert_nodo( nodo.rigth, value)\n",
        "\n",
        "\n",
        "    def transversal( self , formato= \" posorden\"):\n",
        "        if formato == \"posorden\":\n",
        "            self.recorrido_pos(self.root)\n",
        "        elif formato == \" preorden \":\n",
        "            self.recorrido_pre( self.root)\n",
        "        else: \n",
        "            self.recorrido_in(self.root)\n",
        "        print()\n",
        "                \n",
        "    def recorrido_pos(self, nodo):\n",
        "        if nodo != None:\n",
        "            self.recorrido_pos(nodo.left )\n",
        "            self.recorrido_pos(nodo.rigth )\n",
        "            print(str(nodo.data), end=\",\")\n",
        "\n",
        "    def recorrido_pre(self, nodo):\n",
        "        if nodo != None:\n",
        "            print(str(nodo.data), end=\",\")\n",
        "            self.recorrido_pre(nodo.left )\n",
        "            self.recorrido_pre(nodo.rigth )\n",
        "\n",
        "    def recorrido_in(self, nodo):\n",
        "        if nodo != None:\n",
        "            self.recorrido_in(nodo.left )\n",
        "            print(str(nodo.data), end=\",\")\n",
        "            self.recorrido_in(nodo.rigth )\n",
        "        \n",
        "                \n",
        "    def search(self, value):\n",
        "        if root == None:\n",
        "            print(\"El arbol esta vacio, nada que buscar\")\n",
        "            return\n",
        "        else:\n",
        "            self.__search(self.root, value)\n",
        "    def __search(self, nodo, value):\n",
        "        if nodo.data == None:\n",
        "            print(\"el dato no exixte\")\n",
        "            return None\n",
        "        elif nodo.data == value:\n",
        "            print(\"encontrado\")\n",
        "            return nodo \n",
        "        elif value < nodo.data:\n",
        "            return self.__buscar( nodo.left, value )\n",
        "        else:\n",
        "            return self.__buscar(nodo.rigth, value )\n",
        "\n"
      ],
      "execution_count": 1,
      "outputs": []
    },
    {
      "cell_type": "code",
      "metadata": {
        "colab": {
          "base_uri": "https://localhost:8080/"
        },
        "id": "yvRObVnM-PZM",
        "outputId": "3e044361-7554-42aa-f079-34cc15c6840f"
      },
      "source": [
        "arb1 = BinarySearchTree()\n",
        "arb1.insert(60)\n",
        "arb1.insert(30)\n",
        "arb1.insert(15)\n",
        "arb1.insert(40)\n",
        "#arb1.transversal()\n",
        "arb1.transversal(\"posorden\")\n",
        "arb1.transversal(\"preorden\")\n",
        "arb1.transversal(\"inorden\")\n",
        "\n"
      ],
      "execution_count": 2,
      "outputs": [
        {
          "output_type": "stream",
          "name": "stdout",
          "text": [
            "15,40,30,60,\n",
            "15,30,40,60,\n",
            "15,30,40,60,\n"
          ]
        }
      ]
    }
  ]
}